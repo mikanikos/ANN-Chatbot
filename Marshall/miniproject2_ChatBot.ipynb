{
 "cells": [
  {
   "cell_type": "markdown",
   "metadata": {},
   "source": [
    "# Miniproject 2: Chatbot\n",
    "\n",
    "## Introduction\n",
    "\n",
    "### Description\n",
    "\n",
    "Developing a model employing ANN on real-world data requires going through several major steps, each of which with \n",
    "important design choices that directly impact the final results. \n",
    "In this project, we guide you through these choices starting from a large database of \n",
    "[conversations](http://parl.ai/downloads/personachat/personachat.tgz) to a functional chatbot. \n",
    "\n",
    "### Prerequisites\n",
    "\n",
    "- You should have a running installation of [tensorflow](https://www.tensorflow.org/install/) and [keras](https://keras.io/).\n",
    "- You should know the concepts \"recurrent neural networks\", \"LSTM\", \"training and validation data\", \"overfitting\" and \"early stopping\".\n",
    "\n",
    "### What you will learn\n",
    "\n",
    "- You will be guided through a data processing procedure and understand the importance of design choices in ANN modeling\n",
    "- You will learn how to define recurrent neural networks in keras and fit them to data.\n",
    "- You will be guided through a prototyping procedure for the application of deep learning to a specific domain.\n",
    "- You will get in contact with concepts discussed in the lecture, like \"overfitting\", \"LSTM network\", and \"Generative model\".\n",
    "- You will learn to be more patient :) Some fits may take your computer quite a bit of time; run them over night and make sure you save (and load) your data and models.\n",
    "\n",
    "### Evaluation criteria\n",
    "\n",
    "The evaluation is (mostly) based on the figures you submit and your answer sentences. \n",
    "We will only do random tests of your code and not re-run the full notebook. \n",
    "Please ensure that your notebook is fully executed before handing it in. \n",
    "\n",
    "### Submission \n",
    "\n",
    "You should submit your notebook through the Moodle page submission tool. You should work in teams of two people and each member should submit the same notebook to Moodle.\n",
    "\n"
   ]
  },
  {
   "cell_type": "markdown",
   "metadata": {},
   "source": [
    "## Functions and imports\n",
    "\n",
    "For your convenience we import some libraries and provide some functions below. Fill in your names, sciper numbers and run the following cell."
   ]
  },
  {
   "cell_type": "code",
   "execution_count": 1,
   "metadata": {},
   "outputs": [
    {
     "name": "stderr",
     "output_type": "stream",
     "text": [
      "Using TensorFlow backend.\n"
     ]
    }
   ],
   "source": [
    "names = {'student_1': \"Andrea Piccione\",\n",
    "        'student_2': \"Marshall Cooper\"}\n",
    "\n",
    "sciper = {'student_1': 294045, \n",
    "          'student_2': 299656}\n",
    "\n",
    "seed = sciper['student_1']+sciper['student_2']\n",
    "\n",
    "%matplotlib inline\n",
    "\n",
    "import numpy as np\n",
    "import matplotlib.pyplot as plt\n",
    "import os, sys\n",
    "import copy\n",
    "\n",
    "plt.rcParams['font.size'] = 28\n",
    "plt.style.use('ggplot')\n",
    "plt.rcParams[\"axes.grid\"] = False\n",
    "c = plt.rcParams['axes.prop_cycle'].by_key()['color']\n",
    "\n",
    "import keras\n",
    "from keras.models import Model, load_model\n",
    "from keras.layers import Input, Masking, TimeDistributed, Dense, Concatenate, Dropout, LSTM, GRU, SimpleRNN, Bidirectional, Embedding, BatchNormalization\n",
    "from keras.optimizers import Adam\n",
    "from keras.utils import np_utils\n",
    "from keras.preprocessing.sequence import pad_sequences\n",
    "from keras.callbacks import ModelCheckpoint, EarlyStopping\n",
    "\n",
    "## TODO: Fix the datapath for final submission!\n",
    "def getRawDataFromFile(datapath=\"../data/personachat/\", file=\"train_both_revised.txt\"):\n",
    "    \n",
    "    f = open(datapath+file)\n",
    "\n",
    "    conversations = []\n",
    "    current_conversation = []\n",
    "    \n",
    "    for l, line in enumerate(f):\n",
    "        #print(l, line)\n",
    "        if \"persona:\" in line:\n",
    "            if len(current_conversation) > 1:\n",
    "                conversations.append(current_conversation)\n",
    "            current_conversation = [] \n",
    "            continue\n",
    "\n",
    "        #remove numberings\n",
    "        processed_line = line.split(' ')\n",
    "        processed_line = \" \".join(processed_line[1:])\n",
    "        line = processed_line\n",
    "        #print(line)\n",
    "\n",
    "        conv = line.split('\\t')    \n",
    "        q = conv[0]\n",
    "        a = conv[1]\n",
    "        current_conversation.append(q)\n",
    "        current_conversation.append(a)\n",
    "    \n",
    "    return conversations "
   ]
  },
  {
   "cell_type": "markdown",
   "metadata": {
    "collapsed": true
   },
   "source": [
    "## Data visualization and preprocessing\n",
    "\n",
    "Here we will process and visualize the data.\n"
   ]
  },
  {
   "cell_type": "markdown",
   "metadata": {},
   "source": [
    "### Parse raw data \n",
    "\n",
    "Download the dataset on http://parl.ai/downloads/personachat/personachat.tgz. Unpack it and add it to your project folder. Read and run the getRawDataFromFile function (if needed, modify the default path). It extracts the conversations.\n",
    "\n",
    "**Output** Display two randomly selected conversations. [1 pt]"
   ]
  },
  {
   "cell_type": "code",
   "execution_count": 2,
   "metadata": {},
   "outputs": [],
   "source": [
    "conversations = getRawDataFromFile()"
   ]
  },
  {
   "cell_type": "code",
   "execution_count": 3,
   "metadata": {},
   "outputs": [
    {
     "data": {
      "text/plain": [
<<<<<<< HEAD
       "[['hello , how are you ? i am a drummer , i am part of an indie band ; what do you do ?',\n",
       "  'hello . i am a business man working in finance . i also have 3 kids .',\n",
       "  'that sounds like a good career . i do not have kids , but i volunteer at the humane society .',\n",
       "  'that is awesome ! i love singing , but my kids cannot stand it .',\n",
       "  'close enough , right ? i am in nyc right now sharing an apartment with my twin bro !',\n",
       "  'how sweet ! i too am in ny . what do you do on your free time ?',\n",
       "  'i am touring with my band a lot , but when i am not i enjoy gardening .',\n",
       "  'that is great ! what kind of band ? for me , i do karate . i just got my black belt .',\n",
       "  'its an indie band , but we tend to play pink floyd and the doors music lately .',\n",
       "  'nice ! love pink floyd and the doors . where have you folks toured so far ?',\n",
       "  'whats something on your bucket list ? for me , its skydiving . i would be ecstatic to partake .',\n",
       "  'traveling to macha pitch . and yes , skydiving is on my list as well',\n",
       "  'we had a european , north america , and antarctica tour ! that is awesome ! !',\n",
       "  'oh wow ! doing it big . i like that !'],\n",
       " ['how are you doing today',\n",
       "  'hey , i am fine . how about you ? ready for the weekend ?',\n",
       "  'i am . i am going to the indoor pool',\n",
       "  'that sounds like a good time . i will probably go running myself .',\n",
       "  'i love to swim all day',\n",
       "  'wow , hope it is indoors . i will spend most of the weekend with my family .',\n",
       "  'how big is your family',\n",
       "  'just me , my wife and kids . after running we may visit american eagle for some shopping .',\n",
       "  'what do you like to buy',\n",
       "  'definitely not vegetables , i hate those . do you like particular foods ?',\n",
       "  'chocolate milk is the best',\n",
       "  'yeah , i like some in my coffee . only after running though .',\n",
       "  'coffee is great as well',\n",
       "  'yeah , i am just hoping for a nice quite weekend with my family .']]"
=======
       "[['hi . i love catching sunfish and am a simple guy',\n",
       "  'hi how are you today',\n",
       "  'fish are pretty but unfortunately i cant eat them',\n",
       "  'why can you not eat them',\n",
       "  'that is a good question . but i do like beer and creeks .',\n",
       "  'do you drink them at the creeks',\n",
       "  'yes . and fish there . but i do not know why',\n",
       "  'are you made of fish then',\n",
       "  'haha . no . i do not think so . but i think they are pretty',\n",
       "  'yeah they have great scales',\n",
       "  'yes ! my chihuahua is stubborn',\n",
       "  'have to discipline those dogs',\n",
       "  'they are little boogers ! stinkin dogs',\n",
       "  'i work at the zoo though'],\n",
       " ['hello , how are you ? where do you live ? i am in california .',\n",
       "  'hi i am mad about work but will be ok how are you',\n",
       "  'i am fine . sorry to hear that you are upset , what is bothering you ?',\n",
       "  'been working at the factory 10 years but my coworker gets promoted',\n",
       "  'how long was your coworker working there ?',\n",
       "  '5 years . if she had been there longer i would have understood it',\n",
       "  'did she show more effort than you did ? what kind of work ?',\n",
       "  'nope but i am not working overtime or anything anymore forget that .',\n",
       "  'i am sorry . would you like to talk about another topic ?',\n",
       "  'what do you do for a living',\n",
       "  'i work at a nuclear power plant . what do you make at the factory ?',\n",
       "  'i make little debbie cakes',\n",
       "  'those are yummy ! i also like spaghetti !',\n",
       "  'spaghetti is great and quick and easy to make',\n",
       "  'that may be why i like it ! do you do anything for fun ?',\n",
       "  'i like to play videogames']]"
>>>>>>> b0504f9e395c38733729a72b8b42afbaa0789d93
      ]
     },
     "execution_count": 3,
     "metadata": {},
     "output_type": "execute_result"
    }
   ],
   "source": [
    "[conversations[i] for i in np.random.randint(0, len(conversations),size=2)]"
   ]
  },
  {
   "cell_type": "markdown",
   "metadata": {},
   "source": [
    "### Extract word tokens\n",
    "\n",
    "Let's start looking at our data. \n",
    "\n",
    "**Code** Compute the set of unique words (dictionary) in all sentences along with the number of occurences of each of these words. HINT: each word is separated by a space character, use the python string.split(' ') function to separate words. Consider punctuations as 'words'. [1 pt]\n",
    "\n",
    "**Figure** In a bar plot, show the first 75 most frequent words (x-axis) and their number of occurences (y-axis). [1 pt]\n",
    "\n",
    "**Figure** In another bar plot, show the 75 least frequent words (x-axis) and their number of occurences (y-axis). [1 pt] \n",
    "\n",
    "**Figure** In a log-log scale, plot the sorted word index (x-axis) vs their respective count (y-axis). [1 pt]\n",
    "\n",
    "**Question** Relate the sorted word count distribution with Zipf's law.\n",
    "Argue using the log-log plot. [1 pt]\n",
    "\n",
    "**Answer**\n",
    "\n",
    "**Question** How many words appear only once in the entire dataset? [1 pt]\n",
    "\n",
    "**Answer**\n",
    "7080\n"
   ]
  },
  {
   "cell_type": "code",
   "execution_count": 4,
   "metadata": {
    "scrolled": false
   },
   "outputs": [],
   "source": [
    "## Compute set of unique words\n",
    "from collections import Counter\n",
    "words = Counter()\n",
    "for conv in conversations:\n",
    "    for dialogues in conv:\n",
    "        words.update(dialogues.split(' '))"
   ]
  },
  {
   "cell_type": "code",
   "execution_count": 5,
   "metadata": {},
   "outputs": [
    {
     "data": {
      "text/plain": [
       "7080"
      ]
     },
     "execution_count": 5,
     "metadata": {},
     "output_type": "execute_result"
    }
   ],
   "source": [
    "len([word for word in words if words[word]==1])"
   ]
  },
  {
   "cell_type": "markdown",
   "metadata": {},
   "source": []
  },
  {
   "cell_type": "markdown",
   "metadata": {},
   "source": [
    "### Filtering\n",
    "\n",
    "We suggest to filter your data by removing sentences containing rare words. \n",
    "\n",
    "\n",
    "**Code** To achieve that, you should create a new dataset where sentences containing rare words (words that occur less than N times in the dataset) are removed. Keep at least 50'000 sentences (depending on your computing power, you can keep more). \n",
    "HINT: Start by updating the dictionary accordingly and then remove any sentence that contains at least a single word that is not in the dictionary of words. [2 pts]\n",
    "\n",
    "**Question**: How much did you reduce the number of unique words with your rare event suppression procedure? [1 pt]\n",
    "    \n",
    "**Answer**: 18673 words were pruned -> 1007 words, approximately 94% reduction.\n",
    "\n",
    "**Question**: How many sentences are in your filtered and original dataset? [1 pt]\n",
    "\n",
    "**Answer**: 131424 sentences -> 50793 sentences including only words that appear more than 100 times.\n",
    "\n",
    "**Question**: What is the impact on learning and generalization of removing sentences with rare words from your dataset? [2 pt]\n",
    "\n",
    "**Answer**: TODO"
   ]
  },
  {
   "cell_type": "code",
   "execution_count": 6,
   "metadata": {},
   "outputs": [
    {
     "name": "stdout",
     "output_type": "stream",
     "text": [
      "Filtering N = 50 : 66500 sentences remaining N.\n",
      "Filtering N = 100 : 50793 sentences remaining N.\n",
      "Filtering N = 150 : 41527 sentences remaining N.\n",
      "Using N = 100\n",
      "18673 words originally, reduced to 1007: 94% reduction.\n"
     ]
    }
   ],
   "source": [
    "# Declare N and threshold of remaining sentences\n",
    "threshold = 50000\n",
    "# Update dictionary\n",
    "filtered = conversations\n",
    "N = 0\n",
    "prev = filtered\n",
    "pruned = dict([(i, words[i]) for i in words if words[i]>N])\n",
    "total = sum([len(i) for i in filtered])\n",
    "while(total>threshold):\n",
    "    prev = (filtered, pruned, N)\n",
    "    N += 50\n",
    "    pruned = dict([(i, words[i]) for i in words if words[i]>N])\n",
    "    filtered = [i for i in [[sentence for sentence in conversation if all([word in pruned.keys() for word in sentence.split(' ')])] for conversation in conversations] if i!=[]]\n",
    "    total = sum([len(i) for i in filtered])\n",
    "    print(\"Filtering N = {0} : {1} sentences remaining N.\".format(N, total))\n",
    "\n",
    "    \n",
    "filtered, pruned, N = prev\n",
    "total = sum([len(i) for i in filtered])\n",
    "print(\"Using N = {0}\".format(N))\n",
    "print(\"{0} words originally, reduced to {1}: {2}% reduction.\".format(len(words), len(pruned), int(100*(1-(len(pruned)/len(words))))))"
   ]
  },
  {
   "cell_type": "markdown",
   "metadata": {},
   "source": []
  },
  {
   "cell_type": "markdown",
   "metadata": {},
   "source": [
    "### Tokenization and padding\n",
    "\n",
    "Now you will transform our filtered data into a format that is understandable by an ANN. To achieve that, you should transform words to integers, where single integers in the range [1,size of the dictionary] are mapped to single words in your dictionary. This process is commonly named 'tokenization'. In addition, we will keep the value 0 to a specific artificial word 'PADD' that will be used to account for the variable length of sentences and add to each sentence a 'START' and an 'END' word. \n",
    "\n",
    "**Code** Start by adding the three artificial words to your dictionary (list of possible tokens) and then translate every sentences to a list of integers. \n",
    "HINT: use the Python List index() method. [2 pts]\n",
    "\n",
    "**Figure** Use the violinplot to show the density of tokenized sentences length. [1pt]\n",
    "\n",
    "**Code** From this figure, select a maximum number (=maxlen) of tokens for which most of the sentences have less. Padd (and eventually truncate) all sentences with the 'PADD' token (value 0 in the integer representation) until all tokenized sentences have the same length (maxlen).\n",
    "HINT: use the pad_sequences function from keras.preprocessing.sequence [2 pts]\n",
    "\n",
    "**Code** Check that you can recover the original sentence. Randomly select two sentences from your integer and padded representation and translate them back using your dictionary. [1 pt]"
   ]
  },
  {
   "cell_type": "code",
   "execution_count": 7,
   "metadata": {
    "scrolled": true
   },
   "outputs": [
    {
     "data": {
      "image/png": "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\n",
      "text/plain": [
       "<Figure size 432x288 with 1 Axes>"
      ]
     },
     "metadata": {
      "needs_background": "light"
     },
     "output_type": "display_data"
    }
   ],
   "source": [
    "## Generate tokens\n",
    "tokens = ['PADD', 'START', 'END'] + list(pruned.keys())\n",
    "\n",
    "## Tokenize the input\n",
    "tokenized = [[[tokens.index(word) for word in ['START'] + sentence.split(' ') + ['END']] for sentence in conversation] for conversation in filtered]\n",
    "\n",
    "## Count lengths of each sentence\n",
    "lens = Counter()\n",
    "[lens.update([len(sentence) for sentence in conversation]) for conversation in tokenized]\n",
    "\n",
    "## Plots\n",
    "_ = plt.violinplot([i for i in lens.elements()], showmeans=True)"
   ]
  },
  {
   "cell_type": "code",
   "execution_count": null,
   "metadata": {},
   "outputs": [],
   "source": []
  },
  {
   "cell_type": "code",
   "execution_count": 8,
   "metadata": {},
   "outputs": [
    {
     "data": {
      "text/plain": [
       "[array([ 0,  0,  0,  0,  1,  7, 20, 21, 22, 23, 19, 24, 25, 26, 27, 28, 29,\n",
       "        30, 19,  2], dtype=int32),\n",
       " array([ 0,  0,  0,  1, 40, 25, 45, 19, 15,  7, 46, 47, 29, 48, 35, 49, 27,\n",
       "        50,  9,  2], dtype=int32),\n",
       " array([ 0,  0,  0,  0,  0,  0,  0,  0,  0,  0,  1, 56, 25, 57, 29, 52, 14,\n",
       "        55,  9,  2], dtype=int32),\n",
       " array([ 0,  0,  0,  0,  0,  0,  0,  0,  0,  0,  1,  3,  4,  5,  6,  7,  8,\n",
       "        67,  9,  2], dtype=int32),\n",
       " array([ 0,  0,  0,  0,  0,  1, 10, 11, 80, 49, 81, 28, 82, 83, 56,  6,  7,\n",
       "        84, 14,  2], dtype=int32)]"
      ]
     },
     "execution_count": 8,
     "metadata": {},
     "output_type": "execute_result"
    }
   ],
   "source": [
    "## Visually it appears as if 20 is a reasonable cutoff\n",
    "maxlen = 20\n",
    "## Generate padded sequences; create a flat representation as well\n",
    "padded = [pad_sequences(conversation, maxlen) for conversation in tokenized]\n",
    "padded_flat = [sentence for conversation in padded for sentence in conversation]\n",
    "padded_flat[:5]"
   ]
  },
  {
   "cell_type": "code",
   "execution_count": 9,
   "metadata": {},
   "outputs": [
    {
     "data": {
      "text/plain": [
<<<<<<< HEAD
       "['what city are you from ?', 'what do you do for a living ?']"
=======
       "['about the world , about animals and weather . nature stuff .',\n",
       " 'that sounds yummy . now i am hungry .']"
>>>>>>> b0504f9e395c38733729a72b8b42afbaa0789d93
      ]
     },
     "execution_count": 9,
     "metadata": {},
     "output_type": "execute_result"
    }
   ],
   "source": [
    "## Randomly select sentences to recover. Use tokens[i] for each integer i in the padded representation\n",
    "to_recover = [padded_flat[i] for i in np.random.randint(0, len(conversations),size=2)]\n",
    "[\" \".join([tokens[i] for i in sentence if i>2]) for sentence in to_recover]"
   ]
  },
  {
   "cell_type": "markdown",
   "metadata": {},
   "source": [
    "### Saving\n",
    "\n",
    "Now is a good time to save your data (end of processing). An example code using the pickle library is shown below.\n"
   ]
  },
  {
   "cell_type": "code",
   "execution_count": 10,
   "metadata": {},
   "outputs": [
    {
     "ename": "NameError",
     "evalue": "name 'filtered_sentences' is not defined",
     "output_type": "error",
     "traceback": [
      "\u001b[0;31m---------------------------------------------------------------------------\u001b[0m",
      "\u001b[0;31mNameError\u001b[0m                                 Traceback (most recent call last)",
      "\u001b[0;32m<ipython-input-10-752bb3ec7f7b>\u001b[0m in \u001b[0;36m<module>\u001b[0;34m\u001b[0m\n\u001b[1;32m      3\u001b[0m \u001b[0;31m#save\u001b[0m\u001b[0;34m\u001b[0m\u001b[0;34m\u001b[0m\u001b[0;34m\u001b[0m\u001b[0m\n\u001b[1;32m      4\u001b[0m \u001b[0;32mwith\u001b[0m \u001b[0mopen\u001b[0m\u001b[0;34m(\u001b[0m\u001b[0;34m\"data.pkl\"\u001b[0m\u001b[0;34m,\u001b[0m \u001b[0;34m\"wb\"\u001b[0m\u001b[0;34m)\u001b[0m \u001b[0;32mas\u001b[0m \u001b[0mfile\u001b[0m\u001b[0;34m:\u001b[0m\u001b[0;34m\u001b[0m\u001b[0;34m\u001b[0m\u001b[0m\n\u001b[0;32m----> 5\u001b[0;31m     \u001b[0mpickle\u001b[0m\u001b[0;34m.\u001b[0m\u001b[0mdump\u001b[0m\u001b[0;34m(\u001b[0m\u001b[0;34m[\u001b[0m\u001b[0mfiltered_sentences\u001b[0m\u001b[0;34m,\u001b[0m \u001b[0mdictionary\u001b[0m\u001b[0;34m,\u001b[0m \u001b[0mtokens\u001b[0m\u001b[0;34m]\u001b[0m\u001b[0;34m,\u001b[0m \u001b[0mfile\u001b[0m\u001b[0;34m)\u001b[0m\u001b[0;34m\u001b[0m\u001b[0;34m\u001b[0m\u001b[0m\n\u001b[0m\u001b[1;32m      6\u001b[0m \u001b[0;34m\u001b[0m\u001b[0m\n\u001b[1;32m      7\u001b[0m \u001b[0;31m#load\u001b[0m\u001b[0;34m\u001b[0m\u001b[0;34m\u001b[0m\u001b[0;34m\u001b[0m\u001b[0m\n",
      "\u001b[0;31mNameError\u001b[0m: name 'filtered_sentences' is not defined"
     ]
    }
   ],
   "source": [
    "import pickle\n",
    "\n",
    "#save\n",
    "with open(\"data.pkl\", \"wb\") as file:\n",
    "    pickle.dump([filtered_sentences, dictionary, tokens], file)\n",
    "    \n",
    "#load\n",
    "with open(\"data.pkl\", \"rb\") as file:\n",
    "    [filtered_sentences, dictionary, tokens] = pickle.load(file)"
   ]
  },
  {
   "cell_type": "markdown",
   "metadata": {},
   "source": [
    "## Building and training generative models of language"
   ]
  },
  {
   "cell_type": "markdown",
   "metadata": {},
   "source": [
    "### RNN vs LSTM vs GRU \n",
    "\n",
    "Build, train and compare generative models of language based on RNNs with different recurrent units (SimpleRNN, GRU and LSTM). \n",
    "\n",
    "The target of the network will be to approximate the word transition probabilities Pr(word[n+1]|H[n]) with H[n]=f(word[:n]) being the hidden state of the network.  \n",
    "\n",
    "**code** You should complete the proposed model (using the Keras API rather than the Sequential model for more flexibility). Be sure to understand each line. The embedding layer allows to transform an integer to a dense vector. That would be our input to the recurrent network - each sentence is mapped to a sequence of vectors, each representing a single word. You can then design your own readout(s) and output layers. By default, use the proposed meta parameters. You can adapt them if you have more or less computing power (32 epochs should take around 30 minutes). [2 pts]\n",
    "\n",
    "**Question** How will your networks deal with the artificial word 'PADD' that you added at the end of each sentences  [2 pts]\n",
    "\n",
    "**Answer**\n",
    "\n",
    "**code** Then train three different networks with the same architecture but using different recurrent units (simpleRNN, GRU and LSTM). Save the learning history (training/validation loss and accuracy for each epoch) as well as the models. [1 pt]\n",
    "\n",
    "**Question** How can you use this network to approximate the word transition probabilities? What will be the inputs and targets of the network at each batch? Give the input/output tensor dimensions. [2 pts]\n",
    "\n",
    "**Answer**\n",
    "\n",
    "**Figure** Show the learning curves (training and validation loss) for the different recurrent units. [1 pt]\n",
    "\n",
    "**Figure** Show the learning curves (training and validation accuracy) for the different recurrent units. [1 pt]\n",
    "\n",
    "**Question:** Which recurrent unit yields the best validation accuracy? Which is the fastest learner? [1 pt]\n",
    "\n",
    "**Answer**: \n",
    "\n",
    "**Question:** Do you observe an overfitting effect? Where and for which case? Give a possible explanation. [1 pt] \n",
    "\n",
    "**Answer**: \n",
    "\n",
    "**Question:** Suggest one option modifying your dataset to decrease overfitting. [1 pt]\n",
    "\n",
    "**Answer**: \n",
    "\n",
    "**Question:** Suggest one possible option modifying your network to decrease overfitting. [1 pt]\n",
    "\n",
    "**Answer**: \n",
    "\n",
    "**Question:** Suggest one possible option modifying the training modalities to counter overfitting. [1 pt]   \n",
    "\n",
    "**Answer**: "
   ]
  },
  {
   "cell_type": "code",
   "execution_count": 11,
   "metadata": {},
   "outputs": [],
   "source": [
    "#Meta-parameters\n",
    "embedding_size = 128\n",
    "hidden_size = 64\n",
    "dropout = 0.\n",
    "recurrent_dropout = 0.\n",
    "\n",
    "batch_size = 64\n",
    "epochs = 32\n",
    "validation_split = 0.2\n",
    "\n",
    "dataset_cut = -1"
   ]
  },
  {
   "cell_type": "code",
   "execution_count": 12,
   "metadata": {},
   "outputs": [],
   "source": [
    "I = {}\n",
    "E = {}\n",
    "H = {}\n",
    "R = {}\n",
    "Y = {}\n",
    "models = {}\n",
    "logs = {}"
   ]
  },
  {
   "cell_type": "code",
   "execution_count": 13,
   "metadata": {},
   "outputs": [],
   "source": [
    "## Let X be the list of sentences: NxM where N is number of sentence, M is max length of pad\n",
    "X = np.array(padded_flat)\n",
    "## Let T be the one-hot encoding of X: NxMxD where D is the length of the vocabulary\n",
    "## T[n,m,d] = 1 only when mth word of the nth sentence is the dth word of the vocabulary\n",
    "T = np.zeros(X.shape + (len(tokens),))\n",
    "for i, sentence in enumerate(X):\n",
    "    for j, word in enumerate(sentence):\n",
    "        T[i,j,word] = 1"
   ]
  },
  {
   "cell_type": "code",
   "execution_count": 14,
   "metadata": {},
   "outputs": [
    {
     "name": "stdout",
     "output_type": "stream",
     "text": [
      "(50793, 19) (50793, 19, 1010)\n"
     ]
    }
   ],
   "source": [
    "print(X[:,:-1].shape, T[:,1:].shape)"
   ]
  },
  {
   "cell_type": "code",
   "execution_count": 277,
   "metadata": {},
   "outputs": [
    {
     "name": "stdout",
     "output_type": "stream",
     "text": [
      "_________________________________________________________________\n",
      "Layer (type)                 Output Shape              Param #   \n",
      "=================================================================\n",
      "input (InputLayer)           (None, 19)                0         \n",
      "_________________________________________________________________\n",
      "embedding (Embedding)        (None, 19, 128)           129280    \n",
      "_________________________________________________________________\n",
      "RNN_1 (SimpleRNN)            (None, 19, 128)           32896     \n",
      "_________________________________________________________________\n",
      "output (TimeDistributed)     (None, 19, 1010)          130290    \n",
      "=================================================================\n",
      "Total params: 292,466\n",
      "Trainable params: 292,466\n",
      "Non-trainable params: 0\n",
      "_________________________________________________________________\n"
     ]
    }
   ],
   "source": [
    "I['RNN'] = Input(shape=(maxlen-1,), name=\"input\")\n",
    "E['RNN'] = Embedding(len(tokens), embedding_size, mask_zero=True, name=\"embedding\")(I['RNN'])\n",
    "\n",
    "#your network here\n",
    "#... Recurrent layer(s)\n",
    "H['RNN'] = [SimpleRNN(embedding_size, return_sequences=True, name='RNN_1')(E['RNN'])]\n",
    "# H['RNN'].append(Dropout(dropout)(H['RNN'][-1])) #No dropout with default parameters\n",
    "\n",
    "R['RNN'] = TimeDistributed(Dense(len(tokens), activation='softmax'), name=\"output\")(H['RNN'][-1])#... Readout\n",
    "# Y['RNN'] = Activation('softmax', name='activation')(R['RNN'])#... Output\n",
    "\n",
    "models['RNN'] = Model(inputs = [I['RNN']], outputs = [R['RNN']])\n",
    "models['RNN'].compile(\n",
    "    loss='categorical_crossentropy', \n",
    "    optimizer=Adam(),\n",
    "    metrics=['acc'])\n",
    "models['RNN'].summary()"
   ]
  },
  {
   "cell_type": "code",
   "execution_count": 278,
   "metadata": {},
   "outputs": [
    {
     "name": "stdout",
     "output_type": "stream",
     "text": [
      "Train on 40633 samples, validate on 10159 samples\n",
      "Epoch 1/32\n",
      "40633/40633 [==============================] - 82s 2ms/step - loss: 4.2032 - acc: 0.2352 - val_loss: 3.5017 - val_acc: 0.3210\n",
      "Epoch 2/32\n",
      "40633/40633 [==============================] - 82s 2ms/step - loss: 3.3491 - acc: 0.3360 - val_loss: 3.2118 - val_acc: 0.3507\n",
      "Epoch 3/32\n",
      "40633/40633 [==============================] - 85s 2ms/step - loss: 3.1461 - acc: 0.3555 - val_loss: 3.0940 - val_acc: 0.3618\n",
      "Epoch 4/32\n",
      "40633/40633 [==============================] - 85s 2ms/step - loss: 3.0405 - acc: 0.3660 - val_loss: 3.0252 - val_acc: 0.3695\n",
      "Epoch 5/32\n",
      "40633/40633 [==============================] - 86s 2ms/step - loss: 2.9714 - acc: 0.3728 - val_loss: 2.9868 - val_acc: 0.3744\n",
      "Epoch 6/32\n",
      "40633/40633 [==============================] - 86s 2ms/step - loss: 2.9213 - acc: 0.3782 - val_loss: 2.9583 - val_acc: 0.3771\n",
      "Epoch 7/32\n",
      "40633/40633 [==============================] - 86s 2ms/step - loss: 2.8818 - acc: 0.3822 - val_loss: 2.9400 - val_acc: 0.3773\n",
      "Epoch 8/32\n",
      "40633/40633 [==============================] - 86s 2ms/step - loss: 2.8487 - acc: 0.3857 - val_loss: 2.9202 - val_acc: 0.3818\n",
      "Epoch 9/32\n",
      "40633/40633 [==============================] - 87s 2ms/step - loss: 2.8209 - acc: 0.3890 - val_loss: 2.9093 - val_acc: 0.3825\n",
      "Epoch 10/32\n",
      "40633/40633 [==============================] - 86s 2ms/step - loss: 2.7965 - acc: 0.3916 - val_loss: 2.9015 - val_acc: 0.3841\n",
      "Epoch 11/32\n",
      "40633/40633 [==============================] - 85s 2ms/step - loss: 2.7752 - acc: 0.3939 - val_loss: 2.8911 - val_acc: 0.3839\n",
      "Epoch 12/32\n",
      "40633/40633 [==============================] - 86s 2ms/step - loss: 2.7549 - acc: 0.3959 - val_loss: 2.8874 - val_acc: 0.3857\n",
      "Epoch 13/32\n",
      "40633/40633 [==============================] - 87s 2ms/step - loss: 2.7377 - acc: 0.3987 - val_loss: 2.8818 - val_acc: 0.3854\n",
      "Epoch 14/32\n",
      "40633/40633 [==============================] - 87s 2ms/step - loss: 2.7216 - acc: 0.3999 - val_loss: 2.8800 - val_acc: 0.3856\n",
      "Epoch 15/32\n",
      "40633/40633 [==============================] - 87s 2ms/step - loss: 2.7053 - acc: 0.4023 - val_loss: 2.8800 - val_acc: 0.3865\n",
      "Epoch 16/32\n",
      "40633/40633 [==============================] - 89s 2ms/step - loss: 2.6922 - acc: 0.4035 - val_loss: 2.8807 - val_acc: 0.3864\n",
      "Epoch 17/32\n",
      "40633/40633 [==============================] - 93s 2ms/step - loss: 2.6787 - acc: 0.4048 - val_loss: 2.8782 - val_acc: 0.3877\n",
      "Epoch 18/32\n",
      "40633/40633 [==============================] - 88s 2ms/step - loss: 2.6666 - acc: 0.4068 - val_loss: 2.8814 - val_acc: 0.3859\n",
      "Epoch 19/32\n",
      "40633/40633 [==============================] - 83s 2ms/step - loss: 2.6545 - acc: 0.4078 - val_loss: 2.8788 - val_acc: 0.3850\n",
      "Epoch 20/32\n",
      "40633/40633 [==============================] - 97s 2ms/step - loss: 2.6436 - acc: 0.4096 - val_loss: 2.8788 - val_acc: 0.3880\n",
      "Epoch 21/32\n",
      "40633/40633 [==============================] - 86s 2ms/step - loss: 2.6336 - acc: 0.4110 - val_loss: 2.8820 - val_acc: 0.3873\n",
      "Epoch 22/32\n",
      "40633/40633 [==============================] - 91s 2ms/step - loss: 2.6234 - acc: 0.4115 - val_loss: 2.8854 - val_acc: 0.3869\n",
      "Epoch 23/32\n",
      "40633/40633 [==============================] - 92s 2ms/step - loss: 2.6143 - acc: 0.4135 - val_loss: 2.8853 - val_acc: 0.3872\n",
      "Epoch 24/32\n",
      "40633/40633 [==============================] - 102s 3ms/step - loss: 2.6052 - acc: 0.4141 - val_loss: 2.8863 - val_acc: 0.3871\n",
      "Epoch 25/32\n",
      "40633/40633 [==============================] - 100s 2ms/step - loss: 2.5963 - acc: 0.4153 - val_loss: 2.8906 - val_acc: 0.3874\n",
      "Epoch 26/32\n",
      "40633/40633 [==============================] - 100s 2ms/step - loss: 2.5885 - acc: 0.4162 - val_loss: 2.8935 - val_acc: 0.3848\n",
      "Epoch 27/32\n",
      "40633/40633 [==============================] - 94s 2ms/step - loss: 2.5804 - acc: 0.4174 - val_loss: 2.8956 - val_acc: 0.3870\n",
      "Epoch 28/32\n",
      "40633/40633 [==============================] - 88s 2ms/step - loss: 2.5725 - acc: 0.4181 - val_loss: 2.9009 - val_acc: 0.3870\n",
      "Epoch 29/32\n",
      "40633/40633 [==============================] - 84s 2ms/step - loss: 2.5656 - acc: 0.4196 - val_loss: 2.9043 - val_acc: 0.3861\n",
      "Epoch 30/32\n",
      "40633/40633 [==============================] - 85s 2ms/step - loss: 2.5592 - acc: 0.4203 - val_loss: 2.9058 - val_acc: 0.3850\n",
      "Epoch 31/32\n",
      "40633/40633 [==============================] - 86s 2ms/step - loss: 2.5521 - acc: 0.4208 - val_loss: 2.9106 - val_acc: 0.3856\n",
      "Epoch 32/32\n",
      "40633/40633 [==============================] - 85s 2ms/step - loss: 2.5455 - acc: 0.4217 - val_loss: 2.9111 - val_acc: 0.3865\n"
     ]
    }
   ],
   "source": [
    "logs['RNN'] = models['RNN'].fit({'input': X[:dataset_cut,:-1]}, {'output': T[:dataset_cut,1:]}, \n",
    "                                    epochs=epochs, \n",
    "                                    validation_split=validation_split, \n",
    "                                    batch_size=batch_size).history"
   ]
  },
  {
   "cell_type": "code",
   "execution_count": 279,
   "metadata": {
    "scrolled": false
   },
   "outputs": [],
   "source": [
<<<<<<< HEAD
    "#Model suggestion\n",
    "\n",
    "I['RNN'] = Input(shape=(maxlen-1,), name=\"input\")\n",
    "E['RNN'] = Embedding(len(tokens), embedding_size, mask_zero=True, name=\"embedding\")\n",
    "\n",
    "#your network here\n",
    "H['RNN'] = None#... Recurrent layer(s)\n",
    "\n",
    "TimeDistributed(Dense(embedding_size, activation='relu'), name='readout')(decoder)\n",
    "Y = TimeDistributed(Dense(len(tokens), activation='softmax'), name='output')(R)\n",
    "\n",
    "R['RNN'] = #... Readout\n",
    "Y['RNN'] = Layer((maxlen-1,len(tokens)), activation='softmax', name=\"output\")#... Output\n",
    "\n",
    "models['RNN'] = Model(inputs = [I['RNN']], outputs = [Y['RNN']])\n",
    "models['RNN'].compile(\n",
    "    loss='categorical_crossentropy', \n",
    "    optimizer=Adam(),\n",
    "    metrics=['acc'])\n",
    "models['RNN'].summary()\n",
    "\n",
    "print(X[:,:-1].shape, T[:,1:].shape)\n",
    "logs['RNN'] = models['RNN'].fit({'input': X[:dataset_cut,:-1]}, {'output': T[:dataset_cut,1:]}, \n",
    "                                    epochs=epochs, \n",
    "                                    validation_split=validation_split, \n",
    "                                    batch_size=batch_size).history\n",
    "\n",
=======
>>>>>>> b0504f9e395c38733729a72b8b42afbaa0789d93
    "#save\n",
    "with open(\"RNNmodel_\"+str(embedding_size)+'_'+str(hidden_size)+\"_log.pkl\", \"wb\") as file:\n",
    "    pickle.dump(logs['RNN'], file)\n",
    "models['RNN'].save(\"RNNmodel_\"+str(embedding_size)+'_'+str(hidden_size))\n",
    "\n",
    "#load\n",
    "with open(\"RNNmodel_\"+str(embedding_size)+'_'+str(hidden_size)+\"_log.pkl\", \"rb\") as file:\n",
    "    RNNmodel_log = pickle.load(file)\n",
    "RNNmodel = load_model(\"RNNmodel_\"+str(embedding_size)+'_'+str(hidden_size))"
   ]
  },
  {
   "cell_type": "code",
   "execution_count": 280,
   "metadata": {},
   "outputs": [],
   "source": []
  },
  {
   "cell_type": "code",
   "execution_count": 281,
   "metadata": {},
   "outputs": [],
   "source": [
    "I['LSTM'] = Input(shape=(maxlen-1,), name=\"input\")\n",
    "E['LSTM'] = Embedding(len(tokens), embedding_size, mask_zero=True, name=\"embedding\")(I['LSTM'])\n",
    "\n",
    "#your network here\n",
    "#... Recurrent layer(s)\n",
    "H['LSTM'] = [LSTM(embedding_size, return_sequences=True, name='LSTM_1')(E['LSTM'])]\n",
    "# H['LSTM'].append(Dropout(dropout)(H['LSTM'][-1]))\n",
    "\n",
    "R['LSTM'] = TimeDistributed(Dense(len(tokens), activation='softmax'), name=\"output\")(H['LSTM'][-1])#... Readout\n",
    "# Y['RNN'] = Activation('softmax', name='activation')(R['RNN'])#... Output"
   ]
  },
  {
   "cell_type": "code",
   "execution_count": 282,
   "metadata": {},
   "outputs": [
    {
     "name": "stdout",
     "output_type": "stream",
     "text": [
      "_________________________________________________________________\n",
      "Layer (type)                 Output Shape              Param #   \n",
      "=================================================================\n",
      "input (InputLayer)           (None, 19)                0         \n",
      "_________________________________________________________________\n",
      "embedding (Embedding)        (None, 19, 128)           129280    \n",
      "_________________________________________________________________\n",
      "LSTM_1 (LSTM)                (None, 19, 128)           131584    \n",
      "_________________________________________________________________\n",
      "output (TimeDistributed)     (None, 19, 1010)          130290    \n",
      "=================================================================\n",
      "Total params: 391,154\n",
      "Trainable params: 391,154\n",
      "Non-trainable params: 0\n",
      "_________________________________________________________________\n"
     ]
    }
   ],
   "source": [
    "models['LSTM'] = Model(inputs = [I['LSTM']], outputs = [R['LSTM']])\n",
    "models['LSTM'].compile(\n",
    "    loss='categorical_crossentropy', \n",
    "    optimizer=Adam(),\n",
    "    metrics=['acc'])\n",
    "models['LSTM'].summary()"
   ]
  },
  {
   "cell_type": "code",
   "execution_count": 283,
   "metadata": {},
   "outputs": [
    {
     "name": "stdout",
     "output_type": "stream",
     "text": [
      "Train on 40633 samples, validate on 10159 samples\n",
      "Epoch 1/32\n",
      "40633/40633 [==============================] - 107s 3ms/step - loss: 4.3927 - acc: 0.2011 - val_loss: 3.7045 - val_acc: 0.2912\n",
      "Epoch 2/32\n",
      "40633/40633 [==============================] - 106s 3ms/step - loss: 3.5229 - acc: 0.3154 - val_loss: 3.3587 - val_acc: 0.3344\n",
      "Epoch 3/32\n",
      "40633/40633 [==============================] - 107s 3ms/step - loss: 3.2862 - acc: 0.3408 - val_loss: 3.2102 - val_acc: 0.3499\n",
      "Epoch 4/32\n",
      "40633/40633 [==============================] - 117s 3ms/step - loss: 3.1601 - acc: 0.3535 - val_loss: 3.1178 - val_acc: 0.3602\n",
      "Epoch 5/32\n",
      "40633/40633 [==============================] - 108s 3ms/step - loss: 3.0768 - acc: 0.3614 - val_loss: 3.0620 - val_acc: 0.3650\n",
      "Epoch 6/32\n",
      "40633/40633 [==============================] - 107s 3ms/step - loss: 3.0161 - acc: 0.3677 - val_loss: 3.0172 - val_acc: 0.3702\n",
      "Epoch 7/32\n",
      "40633/40633 [==============================] - 110s 3ms/step - loss: 2.9685 - acc: 0.3727 - val_loss: 2.9866 - val_acc: 0.3734\n",
      "Epoch 8/32\n",
      "40633/40633 [==============================] - 124s 3ms/step - loss: 2.9294 - acc: 0.3769 - val_loss: 2.9616 - val_acc: 0.3771\n",
      "Epoch 9/32\n",
      "40633/40633 [==============================] - 129s 3ms/step - loss: 2.8967 - acc: 0.3806 - val_loss: 2.9426 - val_acc: 0.3792\n",
      "Epoch 10/32\n",
      "40633/40633 [==============================] - 125s 3ms/step - loss: 2.8682 - acc: 0.3844 - val_loss: 2.9231 - val_acc: 0.3806\n",
      "Epoch 11/32\n",
      "40633/40633 [==============================] - 135s 3ms/step - loss: 2.8423 - acc: 0.3872 - val_loss: 2.9087 - val_acc: 0.3822\n",
      "Epoch 12/32\n",
      "40633/40633 [==============================] - 114s 3ms/step - loss: 2.8199 - acc: 0.3898 - val_loss: 2.8964 - val_acc: 0.3839\n",
      "Epoch 13/32\n",
      "40633/40633 [==============================] - 116s 3ms/step - loss: 2.7988 - acc: 0.3921 - val_loss: 2.8851 - val_acc: 0.3862\n",
      "Epoch 14/32\n",
      "40633/40633 [==============================] - 111s 3ms/step - loss: 2.7798 - acc: 0.3945 - val_loss: 2.8764 - val_acc: 0.3868\n",
      "Epoch 15/32\n",
      "40633/40633 [==============================] - 131s 3ms/step - loss: 2.7619 - acc: 0.3963 - val_loss: 2.8716 - val_acc: 0.3887\n",
      "Epoch 16/32\n",
      "40633/40633 [==============================] - 127s 3ms/step - loss: 2.7453 - acc: 0.3985 - val_loss: 2.8631 - val_acc: 0.3886\n",
      "Epoch 17/32\n",
      "40633/40633 [==============================] - 126s 3ms/step - loss: 2.7298 - acc: 0.4000 - val_loss: 2.8603 - val_acc: 0.3888\n",
      "Epoch 18/32\n",
      "40633/40633 [==============================] - 111s 3ms/step - loss: 2.7152 - acc: 0.4019 - val_loss: 2.8552 - val_acc: 0.3901\n",
      "Epoch 19/32\n",
      "40633/40633 [==============================] - 109s 3ms/step - loss: 2.7007 - acc: 0.4037 - val_loss: 2.8538 - val_acc: 0.3899\n",
      "Epoch 20/32\n",
      "40633/40633 [==============================] - 121s 3ms/step - loss: 2.6870 - acc: 0.4055 - val_loss: 2.8511 - val_acc: 0.3906\n",
      "Epoch 21/32\n",
      "40633/40633 [==============================] - 126s 3ms/step - loss: 2.6750 - acc: 0.4067 - val_loss: 2.8449 - val_acc: 0.3922\n",
      "Epoch 22/32\n",
      "40633/40633 [==============================] - 121s 3ms/step - loss: 2.6623 - acc: 0.4082 - val_loss: 2.8427 - val_acc: 0.3922\n",
      "Epoch 23/32\n",
      "40633/40633 [==============================] - 109s 3ms/step - loss: 2.6507 - acc: 0.4100 - val_loss: 2.8436 - val_acc: 0.3919\n",
      "Epoch 24/32\n",
      "40633/40633 [==============================] - 123s 3ms/step - loss: 2.6391 - acc: 0.4113 - val_loss: 2.8432 - val_acc: 0.3934\n",
      "Epoch 25/32\n",
      "40633/40633 [==============================] - 123s 3ms/step - loss: 2.6283 - acc: 0.4127 - val_loss: 2.8401 - val_acc: 0.3929\n",
      "Epoch 26/32\n",
      "40633/40633 [==============================] - 130s 3ms/step - loss: 2.6177 - acc: 0.4140 - val_loss: 2.8401 - val_acc: 0.3922\n",
      "Epoch 27/32\n",
      "40633/40633 [==============================] - 118s 3ms/step - loss: 2.6071 - acc: 0.4158 - val_loss: 2.8397 - val_acc: 0.3925\n",
      "Epoch 28/32\n",
      "40633/40633 [==============================] - 114s 3ms/step - loss: 2.5973 - acc: 0.4168 - val_loss: 2.8421 - val_acc: 0.3913\n",
      "Epoch 29/32\n",
      "40633/40633 [==============================] - 130s 3ms/step - loss: 2.5875 - acc: 0.4186 - val_loss: 2.8408 - val_acc: 0.3932\n",
      "Epoch 30/32\n",
      "40633/40633 [==============================] - 128s 3ms/step - loss: 2.5784 - acc: 0.4197 - val_loss: 2.8408 - val_acc: 0.3929\n",
      "Epoch 31/32\n",
      "40633/40633 [==============================] - 128s 3ms/step - loss: 2.5693 - acc: 0.4208 - val_loss: 2.8407 - val_acc: 0.3929\n",
      "Epoch 32/32\n",
      "40633/40633 [==============================] - 118s 3ms/step - loss: 2.5602 - acc: 0.4218 - val_loss: 2.8425 - val_acc: 0.3922\n"
     ]
    }
   ],
   "source": [
    "logs['LSTM'] = models['LSTM'].fit({'input': X[:dataset_cut,:-1]}, {'output': T[:dataset_cut,1:]}, \n",
    "                                    epochs=epochs, \n",
    "                                    validation_split=validation_split, \n",
    "                                    batch_size=batch_size).history"
   ]
  },
  {
   "cell_type": "code",
   "execution_count": 284,
   "metadata": {},
   "outputs": [],
   "source": [
    "#save\n",
    "with open(\"LSTMmodel_\"+str(embedding_size)+'_'+str(hidden_size)+\"_log.pkl\", \"wb\") as file:\n",
    "    pickle.dump(logs['LSTM'], file)\n",
    "models['LSTM'].save(\"LSTMmodel_\"+str(embedding_size)+'_'+str(hidden_size))\n",
    "\n",
    "#load\n",
    "with open(\"LSTMmodel_\"+str(embedding_size)+'_'+str(hidden_size)+\"_log.pkl\", \"rb\") as file:\n",
    "    LSTMmodel_log = pickle.load(file)\n",
    "LSTMmodel = load_model(\"LSTMmodel_\"+str(embedding_size)+'_'+str(hidden_size))"
   ]
  },
  {
   "cell_type": "code",
   "execution_count": 451,
   "metadata": {},
   "outputs": [
    {
     "name": "stdout",
     "output_type": "stream",
     "text": [
      "_________________________________________________________________\n",
      "Layer (type)                 Output Shape              Param #   \n",
      "=================================================================\n",
      "input (InputLayer)           (None, 19)                0         \n",
      "_________________________________________________________________\n",
      "embedding (Embedding)        (None, 19, 128)           129280    \n",
      "_________________________________________________________________\n",
      "GRU_1 (GRU)                  (None, 19, 128)           98688     \n",
      "_________________________________________________________________\n",
      "output (TimeDistributed)     (None, 19, 1010)          130290    \n",
      "=================================================================\n",
      "Total params: 358,258\n",
      "Trainable params: 358,258\n",
      "Non-trainable params: 0\n",
      "_________________________________________________________________\n"
     ]
    }
   ],
   "source": [
    "I['GRU'] = Input(shape=(maxlen-1,), name=\"input\")\n",
    "E['GRU'] = Embedding(len(tokens), embedding_size, mask_zero=True, name=\"embedding\")(I['GRU'])\n",
    "\n",
    "#your network here\n",
    "#... Recurrent layer(s)\n",
    "H['GRU'] = [GRU(embedding_size, return_sequences=True, name='GRU_1')(E['GRU'])]\n",
    "# H['LSTM'].append(Dropout(dropout)(H['LSTM'][-1]))\n",
    "\n",
    "R['GRU'] = TimeDistributed(Dense(len(tokens), activation='softmax'), name=\"output\")(H['GRU'][-1])#... Readout\n",
    "# Y['RNN'] = Activation('softmax', name='activation')(R['RNN'])#... Output\n",
    "\n",
    "models['GRU'] = Model(inputs = [I['GRU']], outputs = [R['GRU']])\n",
    "models['GRU'].compile(\n",
    "    loss='categorical_crossentropy', \n",
    "    optimizer=Adam(),\n",
    "    metrics=['acc'])\n",
    "models['GRU'].summary()"
   ]
  },
  {
   "cell_type": "code",
   "execution_count": 452,
   "metadata": {},
   "outputs": [
    {
     "name": "stdout",
     "output_type": "stream",
     "text": [
      "Train on 40633 samples, validate on 10159 samples\n",
      "Epoch 1/32\n",
      "40633/40633 [==============================] - 107s 3ms/step - loss: 4.4132 - acc: 0.2076 - val_loss: 3.5909 - val_acc: 0.3118\n",
      "Epoch 2/32\n",
      "40633/40633 [==============================] - 104s 3ms/step - loss: 3.3812 - acc: 0.3324 - val_loss: 3.2077 - val_acc: 0.3518\n",
      "Epoch 3/32\n",
      "40633/40633 [==============================] - 101s 2ms/step - loss: 3.1306 - acc: 0.3575 - val_loss: 3.0648 - val_acc: 0.3658\n",
      "Epoch 4/32\n",
      "40633/40633 [==============================] - 101s 2ms/step - loss: 3.0062 - acc: 0.3711 - val_loss: 2.9835 - val_acc: 0.3761\n",
      "Epoch 5/32\n",
      "40633/40633 [==============================] - 102s 3ms/step - loss: 2.9260 - acc: 0.3802 - val_loss: 2.9349 - val_acc: 0.3816\n",
      "Epoch 6/32\n",
      "40633/40633 [==============================] - 102s 3ms/step - loss: 2.8680 - acc: 0.3863 - val_loss: 2.9007 - val_acc: 0.3850\n",
      "Epoch 7/32\n",
      "40633/40633 [==============================] - 102s 3ms/step - loss: 2.8211 - acc: 0.3913 - val_loss: 2.8763 - val_acc: 0.3876\n",
      "Epoch 8/32\n",
      "40633/40633 [==============================] - 115s 3ms/step - loss: 2.7835 - acc: 0.3957 - val_loss: 2.8585 - val_acc: 0.3896\n",
      "Epoch 9/32\n",
      "40633/40633 [==============================] - 108s 3ms/step - loss: 2.7502 - acc: 0.3991 - val_loss: 2.8450 - val_acc: 0.3918\n",
      "Epoch 10/32\n",
      "40633/40633 [==============================] - 117s 3ms/step - loss: 2.7219 - acc: 0.4024 - val_loss: 2.8336 - val_acc: 0.3931\n",
      "Epoch 11/32\n",
      "40633/40633 [==============================] - 123s 3ms/step - loss: 2.6962 - acc: 0.4053 - val_loss: 2.8307 - val_acc: 0.3924\n",
      "Epoch 12/32\n",
      "40633/40633 [==============================] - 129s 3ms/step - loss: 2.6731 - acc: 0.4081 - val_loss: 2.8229 - val_acc: 0.3945\n",
      "Epoch 13/32\n",
      "40633/40633 [==============================] - 118s 3ms/step - loss: 2.6526 - acc: 0.4106 - val_loss: 2.8221 - val_acc: 0.3952\n",
      "Epoch 14/32\n",
      "40633/40633 [==============================] - 119s 3ms/step - loss: 2.6330 - acc: 0.4132 - val_loss: 2.8166 - val_acc: 0.3971\n",
      "Epoch 15/32\n",
      "40633/40633 [==============================] - 137s 3ms/step - loss: 2.6149 - acc: 0.4149 - val_loss: 2.8184 - val_acc: 0.3948\n",
      "Epoch 16/32\n",
      "40633/40633 [==============================] - 127s 3ms/step - loss: 2.5979 - acc: 0.4172 - val_loss: 2.8197 - val_acc: 0.3944\n",
      "Epoch 17/32\n",
      "40633/40633 [==============================] - 121s 3ms/step - loss: 2.5819 - acc: 0.4194 - val_loss: 2.8211 - val_acc: 0.3960\n",
      "Epoch 18/32\n",
      "40633/40633 [==============================] - 118s 3ms/step - loss: 2.5662 - acc: 0.4214 - val_loss: 2.8234 - val_acc: 0.3956\n",
      "Epoch 19/32\n",
      "40633/40633 [==============================] - 129s 3ms/step - loss: 2.5520 - acc: 0.4235 - val_loss: 2.8249 - val_acc: 0.3942\n",
      "Epoch 20/32\n",
      "40633/40633 [==============================] - 136s 3ms/step - loss: 2.5382 - acc: 0.4246 - val_loss: 2.8277 - val_acc: 0.3971\n",
      "Epoch 21/32\n",
      "40633/40633 [==============================] - 130s 3ms/step - loss: 2.5247 - acc: 0.4266 - val_loss: 2.8305 - val_acc: 0.3960\n",
      "Epoch 22/32\n",
      "40633/40633 [==============================] - 128s 3ms/step - loss: 2.5120 - acc: 0.4286 - val_loss: 2.8345 - val_acc: 0.3963\n",
      "Epoch 23/32\n",
      "40633/40633 [==============================] - 129s 3ms/step - loss: 2.4996 - acc: 0.4302 - val_loss: 2.8419 - val_acc: 0.3933\n",
      "Epoch 24/32\n",
      "40633/40633 [==============================] - 125s 3ms/step - loss: 2.4874 - acc: 0.4320 - val_loss: 2.8431 - val_acc: 0.3962\n",
      "Epoch 25/32\n",
      "40633/40633 [==============================] - 130s 3ms/step - loss: 2.4761 - acc: 0.4334 - val_loss: 2.8510 - val_acc: 0.3950\n",
      "Epoch 26/32\n",
      "40633/40633 [==============================] - 123s 3ms/step - loss: 2.4651 - acc: 0.4350 - val_loss: 2.8573 - val_acc: 0.3930\n",
      "Epoch 27/32\n",
      "40633/40633 [==============================] - 123s 3ms/step - loss: 2.4543 - acc: 0.4363 - val_loss: 2.8597 - val_acc: 0.3946\n",
      "Epoch 28/32\n",
      "40633/40633 [==============================] - 124s 3ms/step - loss: 2.4435 - acc: 0.4382 - val_loss: 2.8674 - val_acc: 0.3932\n",
      "Epoch 29/32\n",
      "40633/40633 [==============================] - 123s 3ms/step - loss: 2.4338 - acc: 0.4398 - val_loss: 2.8732 - val_acc: 0.3929\n",
      "Epoch 30/32\n",
      "40633/40633 [==============================] - 136s 3ms/step - loss: 2.4235 - acc: 0.4416 - val_loss: 2.8803 - val_acc: 0.3909\n",
      "Epoch 31/32\n",
      "40633/40633 [==============================] - 111s 3ms/step - loss: 2.4140 - acc: 0.4431 - val_loss: 2.8859 - val_acc: 0.3912\n",
      "Epoch 32/32\n",
      "40633/40633 [==============================] - 110s 3ms/step - loss: 2.4049 - acc: 0.4448 - val_loss: 2.8939 - val_acc: 0.3909\n"
     ]
    }
   ],
   "source": [
    "logs['GRU'] = models['GRU'].fit({'input': X[:dataset_cut,:-1]}, {'output': T[:dataset_cut,1:]}, \n",
    "                                    epochs=epochs, \n",
    "                                    validation_split=validation_split, \n",
    "                                    batch_size=batch_size).history"
   ]
  },
  {
   "cell_type": "code",
   "execution_count": 453,
   "metadata": {},
   "outputs": [],
   "source": [
    "#save\n",
    "with open(\"GRUmodel_\"+str(embedding_size)+'_'+str(hidden_size)+\"_log.pkl\", \"wb\") as file:\n",
    "    pickle.dump(logs['GRU'], file)\n",
    "models['GRU'].save(\"GRUmodel_\"+str(embedding_size)+'_'+str(hidden_size))\n",
    "\n",
    "#load\n",
    "with open(\"GRUmodel_\"+str(embedding_size)+'_'+str(hidden_size)+\"_log.pkl\", \"rb\") as file:\n",
    "    GRUmodel_log = pickle.load(file)\n",
    "GRUmodel = load_model(\"GRUmodel_\"+str(embedding_size)+'_'+str(hidden_size))"
   ]
  },
  {
   "cell_type": "code",
   "execution_count": 455,
   "metadata": {},
   "outputs": [],
   "source": [
    "def predict_next(prefix, model, tokens):\n",
    "    maxlen = model.input_shape[-1]\n",
    "    unpadded = [tokens.index(i) for i in prefix.split(' ')]\n",
    "    padded = pad_sequences([unpadded], maxlen)\n",
    "    pred = tokens[np.argmax(model.predict(padded)[0][-1])]\n",
    "    return pred"
   ]
  },
  {
   "cell_type": "code",
   "execution_count": 533,
   "metadata": {},
   "outputs": [],
   "source": [
    "preds = GRUmodel.predict(X[0:20, :-1])"
   ]
  },
  {
   "cell_type": "code",
   "execution_count": 534,
   "metadata": {},
   "outputs": [
    {
     "name": "stdout",
     "output_type": "stream",
     "text": [
      "('PADD', '')\n",
      "('PADD', ',')\n",
      "('PADD', ',')\n",
      "('PADD', ',')\n",
      "('PADD', ',')\n",
      "('PADD', ',')\n",
      "('START', ',')\n",
      "('i', 'i')\n",
      "('also', 'am')\n",
      "('cook', 'like')\n",
      "(',', 'for')\n",
      "('and', 'and')\n",
      "('i', 'i')\n",
      "('ride', 'love')\n",
      "('my', 'my')\n",
      "('bike', 'bike')\n",
      "('to', 'to')\n",
      "('work', 'work')\n",
      "('.', '.')\n"
     ]
    }
   ],
   "source": [
    "for i in zip([tokens[i] for i in X[15,:-1]], [\"\"]+[tokens[np.argmax(i)] for i in preds[15]]):\n",
    "    print(i)"
   ]
  },
  {
   "cell_type": "code",
   "execution_count": null,
   "metadata": {},
   "outputs": [],
   "source": []
  },
  {
   "cell_type": "markdown",
   "metadata": {},
   "source": [
    "### Optimal network size\n",
    "\n",
    "Compare the learning curves for three networks with 64 (previous exercise), 128 and 256 GRUs (single layer) and one with two hidden layers of 64 GRUs. \n",
    "\n",
    "**Code** Build and train the networks. Apply EarlyStopping (monitor='val_acc', min_delta=0.001, patience=2). Use transfer learning, do not train from scratch your embedding layer, rather re-use the embedding layer from your best performing network in the last exercise. [4 pts]\n",
    "\n",
    "**Figure** Show the learning curves (training and validation loss) for the four models. [1 pt]\n",
    "\n",
    "**Figure** Show the learning curves (training and validation accuracy) for the four models. [1 pt]\n",
    "\n",
    "**Question** List and briefly explain the differences in the learning curves for the different models? [2 pts]\n",
    "\n",
    "**Answer**\n",
    "\n",
    "**Question** What effect had EarlyStopping? Give one advantage and one drawback. [2 pts]\n",
    "\n",
    "**Answer**\n",
    "\n",
    "**Question** What is your best model? Why? [1 pt]\n",
    "\n",
    "**Answer**\n",
    "\n"
   ]
  },
  {
   "cell_type": "code",
   "execution_count": null,
   "metadata": {},
   "outputs": [],
   "source": []
  },
  {
   "cell_type": "code",
   "execution_count": null,
   "metadata": {},
   "outputs": [],
   "source": []
  },
  {
   "cell_type": "code",
   "execution_count": null,
   "metadata": {},
   "outputs": [],
   "source": []
  },
  {
   "cell_type": "code",
   "execution_count": null,
   "metadata": {
    "collapsed": true
   },
   "outputs": [],
   "source": []
  },
  {
   "cell_type": "code",
   "execution_count": null,
   "metadata": {},
   "outputs": [],
   "source": []
  },
  {
   "cell_type": "markdown",
   "metadata": {},
   "source": [
    "### Generate sentences\n",
    "\n",
    "Now you will generate new sentences from your best performing model.\n",
    "\n",
    "**Code** To achieve that, use the provided sample function below to generate new sentences from your model. You should start by constructing a sentence that starts with the 'START' artificial word and all other words being the 'PADD' artificial word. Then sample the first word from the corresponding probabilities given by your model. Add this word to the sentence and continue like this until you sample the 'END' artificial word or the maximum sentence length. [2 pts]\n",
    "\n",
    "**Code** Generate 10 sentences for different sampling temperature in [0., 0.25, 0.5, 0.75, 1., 1.5., 2.]. [1 pt]\n",
    "\n",
    "**7 Figures** For each temperature, use matplotlib imshow to plot the probablities of every word in one generated sentence (and only these words) at each time step. y-axis should be the words that are present in the sentence. x-axis the timesteps and the imshow value the probabilities given by the model for all words in the sentence at each timestep. Use the a colormap where 0 is white, e.g. cmap='Greys'. [2 pts]\n",
    "\n",
    "**Code** Finally, seed your model with two different beginnings of max 4 words and let it generate 10 possible continuations (use sampling temperature of 1.). [2 pts]\n",
    "\n",
    "**Question** What is the effect of sampling temperature on the generated sentences? [1 pt]\n",
    "\n",
    "**Answer**\n",
    "\n",
    "**Question** In terms of sampling a probability distribution, what does a sampling temperature of 0 corresponds to? [1 pt] \n",
    "\n",
    "**Answer**\n",
    "\n",
    "**Question** In terms of sampling a probability distribution, what does a sampling temperature of 1. corresponds to? [1 pt] \n",
    "\n",
    "**Answer**\n",
    "\n",
    "**Question** In terms of sampling a probability distribution, what does a very high sampling temperature corresponds to? [1 pt]\n",
    "\n",
    "**Answer**\n",
    "\n",
    "**Question** Based on the plotted word probabilities, explain how a sentence is generated. [2 pts]\n",
    "\n",
    "**Answer**\n",
    "\n",
    "**Question** Do you observe timesteps with more than one word with non-zero probability? How do these probable words relate in terms of language? [1 pt]\n",
    "\n",
    "**Answer**"
   ]
  },
  {
   "cell_type": "code",
   "execution_count": null,
   "metadata": {},
   "outputs": [],
   "source": [
    "def sample(preds, temperature=1.):\n",
    "    # helper function to sample an index from a probability array\n",
    "    if temperature == 0.:\n",
    "        return np.argmax(preds)\n",
    "    preds = np.asarray(preds).astype('float64')\n",
    "    preds = np.log(preds) / temperature\n",
    "    exp_preds = np.exp(preds)\n",
    "    preds = exp_preds / np.sum(exp_preds)\n",
    "    probas = np.random.multinomial(1, preds, 1)\n",
    "    return np.argmax(probas)\n"
   ]
  },
  {
   "cell_type": "code",
   "execution_count": null,
   "metadata": {
    "collapsed": true
   },
   "outputs": [],
   "source": []
  },
  {
   "cell_type": "code",
   "execution_count": null,
   "metadata": {
    "collapsed": true
   },
   "outputs": [],
   "source": []
  },
  {
   "cell_type": "code",
   "execution_count": null,
   "metadata": {
    "collapsed": true
   },
   "outputs": [],
   "source": []
  },
  {
   "cell_type": "code",
   "execution_count": null,
   "metadata": {
    "collapsed": true
   },
   "outputs": [],
   "source": []
  },
  {
   "cell_type": "markdown",
   "metadata": {},
   "source": [
    "###  Word embedding visualization\n",
    "\n",
    "Here, you are asked to visualize the embedding layer. \n",
    "\n",
    "**Code** To do that, project in 2D the embedding vectors for different words. Use t-SNE, a projection that conserve the neighborhood relationships between vectors. HINT: Build a Keras model that takes as input a list of words and outputs a list of vector embeddings as learned by your best performing model. Use t-SNE dimensionality reduction (from sklearn.manifold import TSNE). [2 pts]\n",
    "\n",
    "**Figure** Plot the projection of the first 200 most frequent words in a 2D plot. On the plot, write the words. [2 pt] \n",
    "\n",
    "**Question** Do you observe clusters of words with similar meaning or role in language? Report three of them here. [1 pt]\n",
    "\n",
    "**Answer**\n",
    "\n",
    "**Question** Why is having similar vector representation for similar words a good approach for such models? Explain using the example clusters from before and argue in terms of prediction accuracy and/or generalization. [2 pts]\n",
    "\n",
    "**Answer**"
   ]
  },
  {
   "cell_type": "code",
   "execution_count": null,
   "metadata": {
    "scrolled": true
   },
   "outputs": [],
   "source": []
  },
  {
   "cell_type": "code",
   "execution_count": null,
   "metadata": {},
   "outputs": [],
   "source": []
  },
  {
   "cell_type": "code",
   "execution_count": null,
   "metadata": {
    "scrolled": true
   },
   "outputs": [],
   "source": []
  },
  {
   "cell_type": "markdown",
   "metadata": {},
   "source": [
    "## Chatbot\n",
    "\n",
    "Finally, you will construct a model with which you can chat. The network will take as input a sentence and output a response.\n",
    "\n",
    "**Code** For that, you should go back to your original data and construct a new dataset containing pairs of sentences, where each pair is a sentence and its answer. Be careful to not include any pair of sentences that contains words not present in your filtered dictionary. [2 pts]\n",
    "\n",
    "**Code** You should then tokenize, padd, truncate each sentence. Only the answers need the 'START' and 'END' artificial words. [1 pt]\n",
    "\n",
    "We provide you with a possible model, you are welcome to change it. This model uses an LSTM layer to encode the first sentence (the context). The final state of this LSTM layer is transfered to initialize the state of a decoder LSTM layer from which the answer sentence will be generated. \n",
    "\n",
    "**Code** Train your chatbot model on your dataset. [1 pt]\n",
    "\n",
    "**Code** Adapt your sentence generation code from before so that you can generate an answer given a context sentence from your model. [2 pts] \n",
    "\n",
    "**Code** After training, randomly select 10 context-answers pairs from your data and show both the real answer (the one from the data) and the generated one for two different sampling temperatures (e.g. 0.5 and 1.0). [2 pts]\n",
    "\n",
    "**Question** How similar are the generated answers and the real ones? Does your model provide probable answers (given the dataset)? Report here one good and one bad example. [2 pts]\n",
    "\n",
    "**Answer**\n",
    "\n",
    "**Question** Which sampling temperature gives better answers? why? [2 pts]\n",
    "\n",
    "**Answer**\n",
    "\n",
    "**Question** Would it be good if your model was able to reproduce exactly each real answer? Why? [1 pt]\n",
    "\n",
    "**Answer**\n",
    "\n",
    "**Code** Entertain yourself with your model. Write some code to chat with your bot, let it discuss with itself, ... be creative! [2 **bonus** pts]\n",
    "\n",
    "\n"
   ]
  },
  {
   "cell_type": "code",
   "execution_count": null,
   "metadata": {
    "collapsed": true
   },
   "outputs": [],
   "source": []
  },
  {
   "cell_type": "code",
   "execution_count": null,
   "metadata": {
    "collapsed": true
   },
   "outputs": [],
   "source": []
  },
  {
   "cell_type": "code",
   "execution_count": null,
   "metadata": {
    "collapsed": true
   },
   "outputs": [],
   "source": []
  },
  {
   "cell_type": "code",
   "execution_count": null,
   "metadata": {
    "collapsed": true
   },
   "outputs": [],
   "source": [
    "context = Input(shape=(maxlen-2,), name=\"input_context\")\n",
    "shared_embedding = E['GRU']\n",
    "context_embedding = shared_embedding(context)\n",
    "\n",
    "encoder_y, encoder_h, encoder_c = LSTM(hidden_size, \n",
    "            return_sequences=False,\n",
    "            return_state=True,\n",
    "            stateful=False,\n",
    "            dropout=dropout,\n",
    "            recurrent_dropout=recurrent_dropout,\n",
    "            go_backwards=True,\n",
    "            name=\"encoder\")(context_embedding)\n",
    "\n",
    "answer = Input(shape=(maxlen-1,), name=\"input_answer\")\n",
    "answer_embedding = shared_embedding(answer)\n",
    "\n",
    "decoder_input = answer_embedding\n",
    "decoder = LSTM(hidden_size, \n",
    "            return_sequences=True,\n",
    "            stateful=False,\n",
    "            dropout=dropout,\n",
    "            recurrent_dropout=recurrent_dropout,\n",
    "            name=\"decoder\")(answer_embedding, initial_state=[encoder_h, encoder_c])\n",
    "# decoder2 = LSTM(hidden_size, \n",
    "#             return_sequences=True,\n",
    "#             stateful=False,\n",
    "#             dropout=dropout,\n",
    "#             recurrent_dropout=recurrent_dropout,\n",
    "#             name=\"decoder2\")(decoder)\n",
    "\n",
    "R = TimeDistributed(Dense(embedding_size, activation='relu'), name='readout')(decoder)\n",
    "Y = TimeDistributed(Dense(len(tokens), activation='softmax'), name='output')(R)\n",
    "\n",
    "Chatbot = Model(inputs = [context, answer], outputs = [Y])\n",
    "Chatbot.compile(\n",
    "    loss='categorical_crossentropy', \n",
    "    optimizer=Adam(),\n",
    "    metrics=['acc'])\n",
    "Chatbot.summary()\n"
   ]
  },
  {
   "cell_type": "code",
   "execution_count": null,
   "metadata": {
    "scrolled": true
   },
   "outputs": [],
   "source": []
  },
  {
   "cell_type": "code",
   "execution_count": null,
   "metadata": {
    "collapsed": true
   },
   "outputs": [],
   "source": []
  },
  {
   "cell_type": "code",
   "execution_count": null,
   "metadata": {
    "collapsed": true
   },
   "outputs": [],
   "source": []
  }
 ],
 "metadata": {
  "kernelspec": {
   "display_name": "Python 3",
   "language": "python",
   "name": "python3"
  },
  "language_info": {
   "codemirror_mode": {
    "name": "ipython",
    "version": 3
   },
   "file_extension": ".py",
   "mimetype": "text/x-python",
   "name": "python",
   "nbconvert_exporter": "python",
   "pygments_lexer": "ipython3",
   "version": "3.6.7"
  }
 },
 "nbformat": 4,
 "nbformat_minor": 2
}
